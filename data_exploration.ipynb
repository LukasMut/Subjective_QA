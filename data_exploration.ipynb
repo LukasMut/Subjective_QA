{
 "cells": [
  {
   "cell_type": "code",
   "execution_count": 1,
   "metadata": {
    "ExecuteTime": {
     "end_time": "2020-01-29T15:31:34.947897Z",
     "start_time": "2020-01-29T15:31:25.215010Z"
    }
   },
   "outputs": [],
   "source": [
    "import cupy as cp\n",
    "import matplotlib as mpl\n",
    "import matplotlib.pyplot as plt\n",
    "import numpy as np\n",
    "import pandas as pd\n",
    "\n",
    "import gzip\n",
    "import os\n",
    "import re\n",
    "import transformers\n",
    "import torch\n",
    "\n",
    "from collections import Counter, defaultdict\n",
    "from utils import *\n",
    "\n",
    "%matplotlib inline"
   ]
  },
  {
   "cell_type": "code",
   "execution_count": 2,
   "metadata": {
    "ExecuteTime": {
     "end_time": "2020-01-29T15:31:34.956873Z",
     "start_time": "2020-01-29T15:31:34.948894Z"
    }
   },
   "outputs": [
    {
     "name": "stdout",
     "output_type": "stream",
     "text": [
      "Single file in data folder.\n",
      "File: ./data/grocery.tar\n"
     ]
    }
   ],
   "source": [
    "PATH = './data/'\n",
    "files = os.listdir(PATH)\n",
    "if len(files) == 1:\n",
    "    print('Single file in data folder.')\n",
    "    file = PATH + ' '.join(files)\n",
    "    print('File: {}'.format(file))\n",
    "elif len(files) > 1:\n",
    "    print('Multiple files in data folder.')\n",
    "    files = list(map(lambda file: PATH + file, files))\n",
    "    print(files)\n",
    "else:\n",
    "    raise Exception('There are no files in data folder.')"
   ]
  },
  {
   "cell_type": "code",
   "execution_count": 4,
   "metadata": {
    "ExecuteTime": {
     "end_time": "2020-01-29T15:31:42.952918Z",
     "start_time": "2020-01-29T15:31:42.892982Z"
    }
   },
   "outputs": [],
   "source": [
    "subjqa = pd.read_csv(file)"
   ]
  },
  {
   "cell_type": "code",
   "execution_count": 5,
   "metadata": {
    "ExecuteTime": {
     "end_time": "2020-01-29T15:31:43.220911Z",
     "start_time": "2020-01-29T15:31:43.217628Z"
    }
   },
   "outputs": [],
   "source": [
    "cols = ['question', 'review', 'human_ans_spans']"
   ]
  },
  {
   "cell_type": "code",
   "execution_count": 26,
   "metadata": {
    "ExecuteTime": {
     "end_time": "2020-01-29T15:53:38.268148Z",
     "start_time": "2020-01-29T15:53:38.223267Z"
    }
   },
   "outputs": [
    {
     "name": "stdout",
     "output_type": "stream",
     "text": [
      "question: How is water?\n",
      "review: The ALOE GLOE Natural Aloe Water drinking water has a noticeably distinct taste compared to the regular bottled ones you buy in the store. And I say this from a bottled-water drinker perspective. Water in my part of the country is specially hard, even when applying consumer filtration. That is why we have regular drinking water delivery. But after trying ALOE GLOE, I have a brand new perspective of what drinking water should be. Nothing beats water that is organic and contains the right minerals and ph balance. It is also gluten-free which is good for people who is intolerant of gluten. Unlike other consumer grade bottled drinking water, the ALOE GLOE is organic, free of any preservatives. This a truly long lasting hydrating liquid is that it is infused with electrolytes and life essential minerals that you cannot get with consumer-grade bottled water. ALOE GLOE hydrates better making drinking water fun and far in between. Very highly recommended!!\n",
      "human_ans_spans: That is why we have regular drinking water delivery\n",
      "\n",
      "question: How do you give energy?\n",
      "review: This is a healthy, versatile product that you can cook with, use on your skin and your hair. I've been using this on my skin and have noticed that it's much softer. I like to put it on my face and lips at night as the air in our home is dry as we use a wood-burning stove.I leave it on for a few hours, and then wipe the excess off just before I go to bed.Looking forward to using it instead of butter in muffins, banana bread and sweet things. The coconut has a fresh smell. I appreciate that this is organic certified and good for you. I rarely use butter or shortening anymore in baking - use olive oil, applesauce and yogurt. It's great to have another healthy substitute for butter and shortening to bake with.*sample provided for review\n",
      "human_ans_spans: ANSWERNOTFOUND\n",
      "\n",
      "question: How was the packaging?\n",
      "review: We love Honey Maid grahams in our house.  This new packaging is nice.  My kids especially liked that the grahams were in the squares, smaller serving, easier for smores or peanut butter graham sandwich.  I liked that it was a smaller stack, keeping the grahams from getting stale also easier to put in tupperware/rubbermaid container to pack as a snack.  Convenient, delicious product.\n",
      "human_ans_spans: This new packaging is nice\n",
      "\n",
      "question: How is it fruit?\n",
      "review: This is one of those cereals that isn't just for breakfast.  Generally it can be very filling and the flavor is excellent.  The fruit really is an added bonus.  Milk doesn't make this a soggy cereal.  The crunchiness is nice to have as I really enjoy the texture.  I think this cereal would be excellent any time of day you need that extra pick me up.  The fact it's all natural makes it that much better.  Although the boxes are smaller than the standard cereal aisle selections one box should last an individual about a week.  Overall this has become one of my favorite cereals that doesn't need anything to be excellent.\n",
      "human_ans_spans: The fruit really is an added bonus\n",
      "\n",
      "question: Why is the package small?\n",
      "review: Honey Maid Fresh Stacks are the same Honey Maid Graham crackers you know and love, just packaged differently.  8 fresh little graham squares to a packet, just right for school lunches or tossing in your pocket or bike bag.  Each packet would provide 260 calories, so even at this size it might be a bit big when compared to all the 100 calorie snack packs out there.I don't know anyone that doesn't love graham crackers.  But the staleness issue is universal.  Once the little tan package has been opened, the crackers have a limited life span.  This will definitely allow those of us without lots of graham cracker eaters in the house to have fresh ones on hand.The perfect size for smores, these are packed as squares, or half the large rectangles we are used to.  But even the square size is hard to eat without getting crumbs everywhere.  The only improvement I would suggest is a more rectangular, snack friendly shape.  Of course, that would make smores difficult.In any case, the breakthrough with this product is in the packaging.  I abhor over-packaging of any kind (even the above mentioned 100 calorie snack packs of various snacks).  Its not cost-conscious, and its not friendly to the environment.  But I'll give Honey Maid a pass in this situation.  It doesn't add up to be much more packaging than before, but will result in far less waste.Great idea!\n",
      "human_ans_spans: ANSWERNOTFOUND\n",
      "\n",
      "question: How much sugar should diabetic patients consume?\n",
      "review: I love granola-like snacks, especially when they are more healthy!  These apple clusters--which come in a convenient resealable pouch--seemed to fit the latter, as they are made from real organic apples and just three other ingredients (organic apple juice concentrate, organic potato starch, and organic cinnamon; they are gluten-free, too).  Each quarter-cup serving (quite small; there are just 4 servings in the tiny bag) is 60 calories, with no fat, 10 grams of natural sugar, and 2 grams of fiber.Okay, so these apple clusters are generally healthy, but I found the taste to be disappointing.  The clusters are small and round, and I found them to have a pleasant crunch.  However, I detected somewhat of an odd flavor; to me, it tasted almost like mustard, but perhaps it was just the particular apple variety?  Whatever it was, it overpowered any apple or cinnamon flavor, making these clusters a disappointment and not something that I would-repurchase.I believe taste is very individual, so others certainly might like these; there are enough positives here to make them worth a try.\n",
      "human_ans_spans: 10 grams of natural sugar\n",
      "\n",
      "question: How is the taste?\n",
      "review: This product is very easy to use. Just squeeze into your water. I like that you can control the amount of sweetness. If you like your drinks sweeter, just add a bit more. The fruit punch flavor tastes just like Kool-Aid's fruit punch flavor. It is zero calories. One serving is one squeeze. It contains 24 servings per 12 ounce bottle.Each serving contains:40 mg CAFFEINEVitamin C  120%Vitamin B6  40%Vitaimin B5  40%Vitamin B3  40%Vitamin B12  40%Chromium  10%Once the bottle is opened it does need to be refrigerated. It also says that it should be used within 30 days after opening.The sweetener used in this product is sucralose.I think a big drawback of this product it that there are 40mg of caffeine per serving. I try to limit the amount of caffeine in my diet, so this product is not something I will be using again. Also, this makes it something I would avoid giving to kids.\n",
      "human_ans_spans: The fruit punch flavor tastes just like Kool\n",
      "\n",
      "question: Is it a good color?\n",
      "review: This tea is perfect for that afternoon cup or evening drink when you just need to unwind.  The blackberry vanilla taste is strong and sweet, but delicious!  It really surprised me how much I liked this.  Be warned - if you don't like fruity, you probably won't like this, but I'm a big Crystal Light drinker ;-)\n",
      "human_ans_spans: ANSWERNOTFOUND\n",
      "\n",
      "question: How is the taste?\n",
      "review: My wife has occasional heartburn with drinking more then one cup of coffee, particularly with bolder blends. I got this for her since she likes dark roasts, but doesn't like the problems associated with them. After two cups, she found that the coffee wasn't bitter and was very smooth for a dark roast. No heartburn at all. The overall flavor wasn't bad, but it wasn't something that she would be drawn to in the future. Might try other flavors though.\n",
      "human_ans_spans: was n't bitter and was very smooth for a dark roast\n",
      "\n",
      "question: How did you like the packaging?\n"
     ]
    },
    {
     "name": "stdout",
     "output_type": "stream",
     "text": [
      "review: This is NOT your usual type of tea. I do not think this actually qualifies to be called a \"tea\"in the real sense of the word. I doubt if the sachets contain much by way of actual tea leaves at all. So don't expect the usual flavored tea. This is more like a brew of actual garden vegetables. The taste of the vegetables is clearly defined and strong. It has a taste similar to what you will get if you drink the water of boiled vegetables. Not many people will like that. I would call this a vegetable brew rather than a tea. I like it, but not for an every day drink. Just for once in a while when i want to shock my taste buds.\n",
      "human_ans_spans: ANSWERNOTFOUND\n",
      "\n",
      "question: How was the sauce?\n",
      "review: We've had this on chicken, pork ribs and as a dipping sauce for some cheap chicken nuggets and it was good with all of them. For a habanero sauce this is actually quite mild and the ginger aspect of it is more of an aftertaste than a prominent flavor.All in all it is well done. My only gripe is that it doesn't have much kick too it, something I have grown to expect from most things containing habanero peppers.\n",
      "human_ans_spans: ANSWERNOTFOUND\n",
      "\n"
     ]
    }
   ],
   "source": [
    "for i, row in subjqa.iterrows():\n",
    "    for col in cols:\n",
    "        if col == 'review':\n",
    "            text = row[col][:row[col].index('ANSWERNOTFOUND')].strip()\n",
    "        else:\n",
    "            text = row[col].strip()\n",
    "        print(col + ': {}'.format(text))\n",
    "    print()\n",
    "    if i == 10: break"
   ]
  },
  {
   "cell_type": "code",
   "execution_count": 6,
   "metadata": {
    "ExecuteTime": {
     "end_time": "2020-01-29T15:31:43.503971Z",
     "start_time": "2020-01-29T15:31:43.475049Z"
    }
   },
   "outputs": [
    {
     "data": {
      "text/plain": [
       "{'avg_question_length': 5.447032967032967,\n",
       " 'avg_review_length': 162.1846153846154,\n",
       " 'avg_human_ans_spans_length': 3.8540659340659342}"
      ]
     },
     "execution_count": 6,
     "metadata": {},
     "output_type": "execute_result"
    }
   ],
   "source": [
    "descriptive_stats(subjqa, cols)"
   ]
  },
  {
   "cell_type": "code",
   "execution_count": 7,
   "metadata": {
    "ExecuteTime": {
     "end_time": "2020-01-29T15:31:43.655954Z",
     "start_time": "2020-01-29T15:31:43.652960Z"
    }
   },
   "outputs": [
    {
     "data": {
      "text/plain": [
       "array(['1', '5', '2', '4', '3',\n",
       "       'does_the_answer_span_you_selected_expresses_a_subjective_opinion_or_an_objective_measurable_fact',\n",
       "       nan], dtype=object)"
      ]
     },
     "execution_count": 7,
     "metadata": {},
     "output_type": "execute_result"
    }
   ],
   "source": [
    "subjqa.loc[:, 'does_the_answer_span_you_selected_expresses_a_subjective_opinion_or_an_objective_measurable_fact'].unique()"
   ]
  },
  {
   "cell_type": "code",
   "execution_count": 8,
   "metadata": {
    "ExecuteTime": {
     "end_time": "2020-01-29T15:31:44.029954Z",
     "start_time": "2020-01-29T15:31:44.023971Z"
    }
   },
   "outputs": [],
   "source": [
    "subj_levels_ans_key = 'does_the_answer_span_you_selected_expresses_a_subjective_opinion_or_an_objective_measurable_fact'\n",
    "subj_levels_q_key = 'question_subj_level'\n",
    "subj_levels_ans_frq = Counter(subjqa.loc[:, subj_levels_ans_key].values)\n",
    "subj_levels_q_frq = Counter(subjqa.loc[:, subj_levels_q_key].values)"
   ]
  },
  {
   "cell_type": "code",
   "execution_count": 9,
   "metadata": {
    "ExecuteTime": {
     "end_time": "2020-01-29T15:31:44.565708Z",
     "start_time": "2020-01-29T15:31:44.562716Z"
    }
   },
   "outputs": [],
   "source": [
    "likert_scale = [str(i) for i in range(1, 6)]"
   ]
  },
  {
   "cell_type": "code",
   "execution_count": 11,
   "metadata": {
    "ExecuteTime": {
     "end_time": "2020-01-29T15:31:45.408235Z",
     "start_time": "2020-01-29T15:31:45.263622Z"
    }
   },
   "outputs": [
    {
     "data": {
      "image/png": "[encoded data removed]",
      "text/plain": [
       "<Figure size 432x288 with 1 Axes>"
      ]
     },
     "metadata": {
      "needs_background": "light"
     },
     "output_type": "display_data"
    }
   ],
   "source": [
    "subj_levels_ans = filter_sbj_levels(subj_levels_ans_frq, likert_scale)\n",
    "subj_levels_q = filter_sbj_levels(subj_levels_q_frq, likert_scale)\n",
    "\n",
    "e = 2e-1\n",
    "plt.bar(list(range(1, 6)), [subj_levels_ans[level] for level in likert_scale], width=0.4, alpha=0.6, edgecolor='black', label='answer')\n",
    "plt.bar(np.array(list(range(1, 6))) + e, [subj_levels_q[level] for level in likert_scale], width=0.4, alpha=0.5, edgecolor='black', color='orange', label='question')\n",
    "plt.xlabel('Subjectiviy level', fontsize=12)\n",
    "plt.ylabel('Frequency', fontsize=12)\n",
    "plt.legend(fancybox=True, shadow=True)\n",
    "plt.show()"
   ]
  }
 ],
 "metadata": {
  "hide_input": false,
  "kernelspec": {
   "display_name": "Python 3",
   "language": "python",
   "name": "python3"
  },
  "language_info": {
   "codemirror_mode": {
    "name": "ipython",
    "version": 3
   },
   "file_extension": ".py",
   "mimetype": "text/x-python",
   "name": "python",
   "nbconvert_exporter": "python",
   "pygments_lexer": "ipython3",
   "version": "3.7.4"
  },
  "latex_envs": {
   "LaTeX_envs_menu_present": true,
   "autoclose": false,
   "autocomplete": true,
   "bibliofile": "biblio.bib",
   "cite_by": "apalike",
   "current_citInitial": 1,
   "eqLabelWithNumbers": true,
   "eqNumInitial": 1,
   "hotkeys": {
    "equation": "Ctrl-E",
    "itemize": "Ctrl-I"
   },
   "labels_anchors": false,
   "latex_user_defs": false,
   "report_style_numbering": false,
   "user_envs_cfg": false
  },
  "toc": {
   "base_numbering": 1,
   "nav_menu": {},
   "number_sections": true,
   "sideBar": true,
   "skip_h1_title": false,
   "title_cell": "Table of Contents",
   "title_sidebar": "Contents",
   "toc_cell": false,
   "toc_position": {},
   "toc_section_display": true,
   "toc_window_display": false
  },
  "varInspector": {
   "cols": {
    "lenName": 16,
    "lenType": 16,
    "lenVar": 40
   },
   "kernels_config": {
    "python": {
     "delete_cmd_postfix": "",
     "delete_cmd_prefix": "del ",
     "library": "var_list.py",
     "varRefreshCmd": "print(var_dic_list())"
    },
    "r": {
     "delete_cmd_postfix": ") ",
     "delete_cmd_prefix": "rm(",
     "library": "var_list.r",
     "varRefreshCmd": "cat(var_dic_list()) "
    }
   },
   "types_to_exclude": [
    "module",
    "function",
    "builtin_function_or_method",
    "instance",
    "_Feature"
   ],
   "window_display": false
  }
 },
 "nbformat": 4,
 "nbformat_minor": 2
}
