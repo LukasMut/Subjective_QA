{
 "cells": [
  {
   "cell_type": "code",
   "execution_count": null,
   "metadata": {
    "ExecuteTime": {
     "start_time": "2020-03-03T10:17:44.406Z"
    }
   },
   "outputs": [],
   "source": [
    "import numpy as np\n",
    "import pandas as pd\n",
    "import matplotlib as mpl \n",
    "import matplotlib.pyplot as plt\n",
    "\n",
    "import json\n",
    "import os\n",
    "import re\n",
    "\n",
    "from plotting import *\n",
    "\n",
    "%matplotlib inline"
   ]
  },
  {
   "cell_type": "markdown",
   "metadata": {},
   "source": [
    "## Performance over time (evaluation steps) - comparison across $D_{i \\in \\{Subj, Subj \\cup Squad\\}}$"
   ]
  },
  {
   "cell_type": "code",
   "execution_count": null,
   "metadata": {
    "ExecuteTime": {
     "start_time": "2020-03-03T10:17:44.435Z"
    }
   },
   "outputs": [],
   "source": [
    "# specify general hyperparameters\n",
    "models = ['adversarial', 'linear', 'highway', 'recurrent', 'recurrent_highway']\n",
    "\n",
    "metrics = ['batch_loss', 'batch_acc', 'batch_f1', 'val_f1', 'val_acc', 'val_loss']\n",
    "\n",
    "task='QA'\n",
    "version = 'train'\n",
    "task_setting ='single'\n",
    "iv = 'datasets'\n",
    "aux = 'aux_1'"
   ]
  },
  {
   "cell_type": "code",
   "execution_count": null,
   "metadata": {
    "ExecuteTime": {
     "start_time": "2020-03-03T10:17:44.437Z"
    },
    "scrolled": false
   },
   "outputs": [],
   "source": [
    "plotting(models=models, metrics=metrics, task=task, version=version, task_setting=task_setting, iv=iv, aux=aux)"
   ]
  },
  {
   "cell_type": "markdown",
   "metadata": {},
   "source": [
    "## Performance over time (evaluation steps) - comparison across $\\tilde f$  \\textit{ (i.e., models)}"
   ]
  },
  {
   "cell_type": "code",
   "execution_count": null,
   "metadata": {
    "ExecuteTime": {
     "start_time": "2020-03-03T10:17:44.448Z"
    }
   },
   "outputs": [],
   "source": [
    "# specify general hyperparameters\n",
    "models = ['combined', 'SubjQA']\n",
    "\n",
    "metrics = ['batch_loss', 'batch_acc', 'batch_f1', 'val_f1', 'val_acc', 'val_loss']\n",
    "\n",
    "task='QA'\n",
    "version = 'train'\n",
    "task_setting ='single'\n",
    "iv = 'models'\n",
    "aux = 'aux_1'"
   ]
  },
  {
   "cell_type": "code",
   "execution_count": null,
   "metadata": {
    "ExecuteTime": {
     "start_time": "2020-03-03T10:17:44.450Z"
    }
   },
   "outputs": [],
   "source": [
    "plotting(models=models, metrics=metrics, task=task, version=version, task_setting=task_setting, iv=iv, aux=aux)"
   ]
  },
  {
   "cell_type": "code",
   "execution_count": null,
   "metadata": {
    "ExecuteTime": {
     "start_time": "2020-03-03T10:17:44.451Z"
    }
   },
   "outputs": [],
   "source": [
    "# specify general hyperparameters\n",
    "models = ['combined', 'SubjQA']\n",
    "\n",
    "metrics = ['batch_loss', 'batch_acc', 'batch_f1', 'val_f1', 'val_acc', 'val_loss']\n",
    "\n",
    "task='QA'\n",
    "version = 'train'\n",
    "task_setting ='multi'\n",
    "iv = 'models'\n",
    "aux = 'aux_1'"
   ]
  },
  {
   "cell_type": "code",
   "execution_count": null,
   "metadata": {
    "ExecuteTime": {
     "start_time": "2020-03-03T10:17:44.453Z"
    }
   },
   "outputs": [],
   "source": [
    "plotting(models=models, metrics=metrics, task=task, version=version, task_setting=task_setting, iv=iv, aux=aux)"
   ]
  },
  {
   "cell_type": "markdown",
   "metadata": {},
   "source": [
    "## \\textit{Correlation plots}: performance on dev set as a function of performance on train set"
   ]
  },
  {
   "cell_type": "code",
   "execution_count": null,
   "metadata": {
    "ExecuteTime": {
     "start_time": "2020-03-03T10:17:44.462Z"
    }
   },
   "outputs": [],
   "source": [
    "task = 'QA'\n",
    "version = 'train'\n",
    "model = 'highway'\n",
    "task_setting = 'single'\n",
    "iv = 'datasets'\n",
    "metric = ''\n",
    "\n",
    "all_results = get_results(task=task, version=version, model=model, task_setting=task_setting, aux=None)\n",
    "plot_results(all_results, task=task, metric=metric, iv=iv,  model=model, task_setting=task_setting, aux=None, correlation=True)"
   ]
  },
  {
   "cell_type": "code",
   "execution_count": null,
   "metadata": {
    "ExecuteTime": {
     "start_time": "2020-03-03T10:17:44.465Z"
    }
   },
   "outputs": [],
   "source": [
    "task = 'QA'\n",
    "version = 'train'\n",
    "model = 'linear'\n",
    "task_setting = 'single'\n",
    "iv = 'datasets'\n",
    "metric = ''\n",
    "\n",
    "all_results = get_results(task=task, version=version, model=model, task_setting=task_setting, aux=None)\n",
    "plot_results(all_results,task=task, metric=metric, iv=iv,  model=model, task_setting=task_setting, aux=None, correlation=True)"
   ]
  },
  {
   "cell_type": "code",
   "execution_count": null,
   "metadata": {
    "ExecuteTime": {
     "start_time": "2020-03-03T10:17:44.467Z"
    }
   },
   "outputs": [],
   "source": [
    "task = 'QA'\n",
    "version = 'train'\n",
    "model = 'recurrent'\n",
    "task_setting = 'single'\n",
    "iv = 'datasets'\n",
    "metric = ''\n",
    "\n",
    "all_results = get_results(task=task, version=version, model=model, task_setting=task_setting, aux=None)\n",
    "plot_results(all_results,task=task, metric=metric, iv=iv,  model=model, task_setting=task_setting, aux=None, correlation=True)"
   ]
  },
  {
   "cell_type": "code",
   "execution_count": null,
   "metadata": {
    "ExecuteTime": {
     "start_time": "2020-03-03T10:17:44.468Z"
    }
   },
   "outputs": [],
   "source": [
    "task = 'QA'\n",
    "version = 'train'\n",
    "model = 'recurrent_highway'\n",
    "task_setting = 'single'\n",
    "iv = 'datasets'\n",
    "metric = ''\n",
    "\n",
    "all_results = get_results(task=task, version=version, model=model, task_setting=task_setting, aux=None)\n",
    "plot_results(all_results,task=task, metric=metric, iv=iv,  model=model, task_setting=task_setting, aux=None, correlation=True)"
   ]
  },
  {
   "cell_type": "code",
   "execution_count": null,
   "metadata": {
    "ExecuteTime": {
     "start_time": "2020-03-03T10:17:44.470Z"
    }
   },
   "outputs": [],
   "source": [
    "task = 'QA'\n",
    "version = 'train'\n",
    "model = 'adversarial'\n",
    "task_setting = 'multi'\n",
    "iv = 'methods'\n",
    "metric = ''\n",
    "aux = 'aux_1'\n",
    "\n",
    "all_results = get_results(task=task, version=version, model=model, task_setting=task_setting, aux=aux)\n",
    "plot_results(all_results, task=task, metric=metric, iv=iv,  model=model, task_setting=task_setting, aux=aux, correlation=True)"
   ]
  }
 ],
 "metadata": {
  "hide_input": false,
  "kernelspec": {
   "display_name": "Python 3",
   "language": "python",
   "name": "python3"
  },
  "language_info": {
   "codemirror_mode": {
    "name": "ipython",
    "version": 3
   },
   "file_extension": ".py",
   "mimetype": "text/x-python",
   "name": "python",
   "nbconvert_exporter": "python",
   "pygments_lexer": "ipython3",
   "version": "3.7.4"
  },
  "latex_envs": {
   "LaTeX_envs_menu_present": true,
   "autoclose": false,
   "autocomplete": true,
   "bibliofile": "biblio.bib",
   "cite_by": "apalike",
   "current_citInitial": 1,
   "eqLabelWithNumbers": true,
   "eqNumInitial": 1,
   "hotkeys": {
    "equation": "Ctrl-E",
    "itemize": "Ctrl-I"
   },
   "labels_anchors": false,
   "latex_user_defs": false,
   "report_style_numbering": false,
   "user_envs_cfg": false
  },
  "toc": {
   "base_numbering": 1,
   "nav_menu": {},
   "number_sections": true,
   "sideBar": true,
   "skip_h1_title": false,
   "title_cell": "Table of Contents",
   "title_sidebar": "Contents",
   "toc_cell": false,
   "toc_position": {},
   "toc_section_display": true,
   "toc_window_display": false
  },
  "varInspector": {
   "cols": {
    "lenName": 16,
    "lenType": 16,
    "lenVar": 40
   },
   "kernels_config": {
    "python": {
     "delete_cmd_postfix": "",
     "delete_cmd_prefix": "del ",
     "library": "var_list.py",
     "varRefreshCmd": "print(var_dic_list())"
    },
    "r": {
     "delete_cmd_postfix": ") ",
     "delete_cmd_prefix": "rm(",
     "library": "var_list.r",
     "varRefreshCmd": "cat(var_dic_list()) "
    }
   },
   "types_to_exclude": [
    "module",
    "function",
    "builtin_function_or_method",
    "instance",
    "_Feature"
   ],
   "window_display": false
  }
 },
 "nbformat": 4,
 "nbformat_minor": 2
}
