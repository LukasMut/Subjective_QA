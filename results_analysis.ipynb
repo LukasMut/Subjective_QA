{
 "cells": [
  {
   "cell_type": "code",
   "execution_count": 16,
   "metadata": {
    "ExecuteTime": {
     "end_time": "2020-02-18T14:33:00.646572Z",
     "start_time": "2020-02-18T14:33:00.640244Z"
    }
   },
   "outputs": [],
   "source": [
    "import numpy as np\n",
    "import pandas as pd\n",
    "import matplotlib as mpl \n",
    "import matplotlib.pyplot as plt\n",
    "\n",
    "import json\n",
    "import os\n",
    "import re\n",
    "import torch\n",
    "\n",
    "from collections import Counter, defaultdict\n",
    "from itertools import islice\n",
    "\n",
    "%matplotlib inline"
   ]
  },
  {
   "cell_type": "code",
   "execution_count": 186,
   "metadata": {
    "ExecuteTime": {
     "end_time": "2020-02-18T15:17:15.159169Z",
     "start_time": "2020-02-18T15:17:15.147170Z"
    }
   },
   "outputs": [],
   "source": [
    "def get_results(version:str='train'):\n",
    "    subdir = './results_train/' if version == 'train' else './results_test/'\n",
    "    all_files = list(map(lambda f: subdir + f, os.listdir(subdir)))\n",
    "    all_results = defaultdict(dict)\n",
    "    for file in islice(all_files, 1, None):\n",
    "        with open(file) as f:\n",
    "            r = json.load(f)\n",
    "            for metric, values in r.items():\n",
    "                all_results[file][metric] = values\n",
    "    return dict(all_results)\n",
    "\n",
    "def plot_results(results:dict, metric:str='train_f1', models='optims'):\n",
    "    r_plot = {}\n",
    "    for clf, r in results.items():\n",
    "        if re.search(r'linear', clf) and re.search(r'subjqa', clf):\n",
    "            for m, v in r.items():\n",
    "                if re.search(r'' + metric, m):\n",
    "                    r_plot[clf] = v\n",
    "                    \n",
    "    optims = ['AdamW', 'Adam', 'SGDCos', 'SGD']\n",
    "    \n",
    "    for idx, (model, met) in enumerate(r_plot.items()):\n",
    "        plt.plot(range(1, len(met) + 1), met, '-o', label=optims[idx])\n",
    "        \n",
    "    plt.legend(fancybox=True, shadow=True)\n",
    "    plt.xticks(range(1, 6))\n",
    "    if metric == 'train_loss':\n",
    "        plt.yticks(range(1, 7))\n",
    "    plt.xlabel('Epochs', fontsize=12)\n",
    "    if metric == 'train_acc' or metric == 'val_acc':\n",
    "        plt.ylabel('Accuracy', fontsize=12)\n",
    "    elif metric == 'train_f1' or metric == 'val_f1':\n",
    "        plt.ylabel('F1', fontsize=12)\n",
    "    elif metric == 'train_loss' or metric == 'val_loss':\n",
    "        plt.ylabel('Loss', fontsize=12)\n",
    "    plt.savefig('./plots/' + models + '/' + metric + '.png')\n",
    "    plt.show()"
   ]
  },
  {
   "cell_type": "code",
   "execution_count": 187,
   "metadata": {
    "ExecuteTime": {
     "end_time": "2020-02-18T15:17:15.544001Z",
     "start_time": "2020-02-18T15:17:15.524055Z"
    }
   },
   "outputs": [],
   "source": [
    "all_results = get_results()"
   ]
  },
  {
   "cell_type": "code",
   "execution_count": 188,
   "metadata": {
    "ExecuteTime": {
     "end_time": "2020-02-18T15:17:16.114115Z",
     "start_time": "2020-02-18T15:17:15.969504Z"
    }
   },
   "outputs": [
    {
     "data": {
      "image/png": "[encoded data removed]",
      "text/plain": [
       "<Figure size 432x288 with 1 Axes>"
      ]
     },
     "metadata": {
      "needs_background": "light"
     },
     "output_type": "display_data"
    }
   ],
   "source": [
    "plot_results(all_results, metric='val_f1')"
   ]
  }
 ],
 "metadata": {
  "hide_input": false,
  "kernelspec": {
   "display_name": "Python 3",
   "language": "python",
   "name": "python3"
  },
  "language_info": {
   "codemirror_mode": {
    "name": "ipython",
    "version": 3
   },
   "file_extension": ".py",
   "mimetype": "text/x-python",
   "name": "python",
   "nbconvert_exporter": "python",
   "pygments_lexer": "ipython3",
   "version": "3.7.4"
  },
  "latex_envs": {
   "LaTeX_envs_menu_present": true,
   "autoclose": false,
   "autocomplete": true,
   "bibliofile": "biblio.bib",
   "cite_by": "apalike",
   "current_citInitial": 1,
   "eqLabelWithNumbers": true,
   "eqNumInitial": 1,
   "hotkeys": {
    "equation": "Ctrl-E",
    "itemize": "Ctrl-I"
   },
   "labels_anchors": false,
   "latex_user_defs": false,
   "report_style_numbering": false,
   "user_envs_cfg": false
  },
  "toc": {
   "base_numbering": 1,
   "nav_menu": {},
   "number_sections": true,
   "sideBar": true,
   "skip_h1_title": false,
   "title_cell": "Table of Contents",
   "title_sidebar": "Contents",
   "toc_cell": false,
   "toc_position": {},
   "toc_section_display": true,
   "toc_window_display": false
  },
  "varInspector": {
   "cols": {
    "lenName": 16,
    "lenType": 16,
    "lenVar": 40
   },
   "kernels_config": {
    "python": {
     "delete_cmd_postfix": "",
     "delete_cmd_prefix": "del ",
     "library": "var_list.py",
     "varRefreshCmd": "print(var_dic_list())"
    },
    "r": {
     "delete_cmd_postfix": ") ",
     "delete_cmd_prefix": "rm(",
     "library": "var_list.r",
     "varRefreshCmd": "cat(var_dic_list()) "
    }
   },
   "types_to_exclude": [
    "module",
    "function",
    "builtin_function_or_method",
    "instance",
    "_Feature"
   ],
   "window_display": false
  }
 },
 "nbformat": 4,
 "nbformat_minor": 2
}
