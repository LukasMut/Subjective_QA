{
 "cells": [
  {
   "cell_type": "code",
   "execution_count": 1,
   "metadata": {
    "ExecuteTime": {
     "end_time": "2020-02-01T16:35:34.080685Z",
     "start_time": "2020-02-01T16:35:31.352637Z"
    },
    "scrolled": true
   },
   "outputs": [
    {
     "name": "stdout",
     "output_type": "stream",
     "text": [
      "GPU is available\n"
     ]
    }
   ],
   "source": [
    "import numpy as np\n",
    "import pandas as pd\n",
    "\n",
    "import os\n",
    "import re\n",
    "import torch \n",
    "import transformers\n",
    "import gzip\n",
    "\n",
    "from collections import Counter, defaultdict\n",
    "from itertools import islice\n",
    "from transformers import BertTokenizer, BertModel, BertForQuestionAnswering\n",
    "from models.QAheads import *\n",
    "from models.utils import *\n",
    "from utils import *"
   ]
  },
  {
   "cell_type": "markdown",
   "metadata": {},
   "source": [
    "## Load data into memory"
   ]
  },
  {
   "cell_type": "code",
   "execution_count": 2,
   "metadata": {
    "ExecuteTime": {
     "end_time": "2020-02-01T16:35:35.646409Z",
     "start_time": "2020-02-01T16:35:35.277063Z"
    }
   },
   "outputs": [],
   "source": [
    "# load SubjQA_data into memory\n",
    "subjqa_data_train = get_data(source='/SubjQA/', split='/train', domain='all')\n",
    "subjqa_data_dev = get_data(source='/SubjQA/', split='/dev', domain='all')"
   ]
  },
  {
   "cell_type": "code",
   "execution_count": 3,
   "metadata": {
    "ExecuteTime": {
     "end_time": "2020-02-01T16:35:38.190862Z",
     "start_time": "2020-02-01T16:35:37.130880Z"
    }
   },
   "outputs": [],
   "source": [
    "# load SQuAD_data into memory\n",
    "squad_data_train = get_data(source='/SQuAD/', split='train')\n",
    "squad_data_dev = get_data(source='/SQuAD/', split='dev')\n",
    "\n",
    "# create question, answer, support pairs for train and dev set\n",
    "squad_q_train, squad_a_train, squad_s_train, _ = create_pairs(squad_data_train, bert=True)\n",
    "squad_q_dev, squad_a_dev, squad_s_dev, _ = create_pairs(squad_data_dev, bert=True)"
   ]
  },
  {
   "cell_type": "code",
   "execution_count": null,
   "metadata": {},
   "outputs": [],
   "source": [
    "def tokenize_qas(questions:list, answers:list, contexts:list):\n",
    "    tokenizer = BertTokenizer.from_pretrained('bert-base-uncased')\n",
    "    input_ids_all, token_type_ids_all = [], []\n",
    "    for question, context in zip(questions, contexts):\n",
    "        input_ids_current = tokenizer.encode(question, context)\n",
    "        # TODO: figure out why line below is necessary\n",
    "        token_type_ids_current = [0 if i <= input_ids_current.index(102) else 1 for i in range(len(input_ids_current))]\n",
    "        input_ids_all.append(input_ids_current)\n",
    "        token_type_ids_all.append(token_type_ids_current)"
   ]
  },
  {
   "cell_type": "code",
   "execution_count": null,
   "metadata": {
    "ExecuteTime": {
     "end_time": "2020-02-01T10:57:33.338387Z",
     "start_time": "2020-02-01T10:57:32.354Z"
    }
   },
   "outputs": [],
   "source": [
    "tokenizer = BertTokenizer.from_pretrained('bert-base-uncased')\n",
    "bert_encoder = BertModel.from_pretrained('bert-large-uncased-whole-word-masking-finetuned-squad')\n",
    "linear_head = LinearQAHead()"
   ]
  },
  {
   "cell_type": "code",
   "execution_count": 3,
   "metadata": {
    "ExecuteTime": {
     "end_time": "2020-01-30T14:04:26.146209Z",
     "start_time": "2020-01-30T14:04:26.142845Z"
    }
   },
   "outputs": [],
   "source": [
    "question, text = \"[CLS] Who was Jim Henson? [SEP]\", \"[CLS] Jim Henson was a nice puppet [SEP]\""
   ]
  },
  {
   "cell_type": "code",
   "execution_count": 4,
   "metadata": {
    "ExecuteTime": {
     "end_time": "2020-01-30T14:04:26.155185Z",
     "start_time": "2020-01-30T14:04:26.147207Z"
    }
   },
   "outputs": [],
   "source": [
    "question = '[CLS] ' + question + ' [SEP]'\n",
    "text = '[CLS] ' + text + ' [SEP]'"
   ]
  },
  {
   "cell_type": "code",
   "execution_count": 5,
   "metadata": {
    "ExecuteTime": {
     "end_time": "2020-01-30T14:04:26.339712Z",
     "start_time": "2020-01-30T14:04:26.157180Z"
    }
   },
   "outputs": [
    {
     "name": "stdout",
     "output_type": "stream",
     "text": [
      "Bert out: (tensor([[[ 0.5671,  0.0449, -0.7326,  ..., -0.1442,  0.7058, -0.2816],\n",
      "         [ 0.5673,  0.0451, -0.7315,  ..., -0.1434,  0.7059, -0.2817],\n",
      "         [-0.1931,  0.0144,  0.4119,  ...,  0.6692,  0.5947,  0.0778],\n",
      "         ...,\n",
      "         [ 0.9417, -0.1896, -0.8671,  ..., -0.6603,  0.5811,  0.2788],\n",
      "         [ 0.5672,  0.0470, -0.7302,  ..., -0.1424,  0.7063, -0.2825],\n",
      "         [ 0.5667,  0.0504, -0.7241,  ..., -0.1377,  0.7082, -0.2846]]],\n",
      "       grad_fn=<NativeLayerNormBackward>), tensor([[ 0.1509, -0.9996, -0.7013,  ...,  0.9989, -0.9997, -0.1417]],\n",
      "       grad_fn=<TanhBackward>))\n",
      "\n",
      "0 out shape: torch.Size([1, 19, 1024])\n",
      "1 out shape: torch.Size([1, 1024])\n",
      "\n",
      "Seq out: tensor([[[ 0.5671,  0.0449, -0.7326,  ..., -0.1442,  0.7058, -0.2816],\n",
      "         [ 0.5673,  0.0451, -0.7315,  ..., -0.1434,  0.7059, -0.2817],\n",
      "         [-0.1931,  0.0144,  0.4119,  ...,  0.6692,  0.5947,  0.0778],\n",
      "         ...,\n",
      "         [ 0.9417, -0.1896, -0.8671,  ..., -0.6603,  0.5811,  0.2788],\n",
      "         [ 0.5672,  0.0470, -0.7302,  ..., -0.1424,  0.7063, -0.2825],\n",
      "         [ 0.5667,  0.0504, -0.7241,  ..., -0.1377,  0.7082, -0.2846]]],\n",
      "       grad_fn=<NativeLayerNormBackward>)\n",
      "Shape seq out: torch.Size([1, 19, 1024])\n",
      "Shape seq out after view: torch.Size([19, 1024])\n"
     ]
    }
   ],
   "source": [
    "input_ids = tokenizer.encode(question, text)\n",
    "token_type_ids = [0 if i <= input_ids.index(102) else 1 for i in range(len(input_ids))]\n",
    "bert_outputs = bert_encoder(torch.tensor([input_ids]), token_type_ids=torch.tensor([token_type_ids]))\n",
    "start_scores, end_scores = linear_head(bert_outputs)\n",
    "\n",
    "all_tokens = tokenizer.convert_ids_to_tokens(input_ids)\n",
    "answer = ' '.join(all_tokens[torch.argmax(start_scores) : torch.argmax(end_scores)+1])\n",
    "\n",
    "#assert answer == \"a nice puppet\""
   ]
  },
  {
   "cell_type": "code",
   "execution_count": 6,
   "metadata": {
    "ExecuteTime": {
     "end_time": "2020-01-30T14:04:26.345696Z",
     "start_time": "2020-01-30T14:04:26.340691Z"
    }
   },
   "outputs": [
    {
     "name": "stdout",
     "output_type": "stream",
     "text": [
      "was a nice puppet [SEP] [SEP]\n"
     ]
    }
   ],
   "source": [
    "print(answer)"
   ]
  },
  {
   "cell_type": "code",
   "execution_count": 7,
   "metadata": {
    "ExecuteTime": {
     "end_time": "2020-01-30T14:05:56.986283Z",
     "start_time": "2020-01-30T14:05:56.977287Z"
    }
   },
   "outputs": [
    {
     "name": "stdout",
     "output_type": "stream",
     "text": [
      "torch.Size([3, 4, 10])\n",
      "torch.Size([12, 10])\n"
     ]
    }
   ],
   "source": [
    "some_tensor = torch.ones(3,4,10)\n",
    "print(some_tensor.shape)\n",
    "print(some_tensor.view(-1, some_tensor.shape[-1]).shape)"
   ]
  }
 ],
 "metadata": {
  "hide_input": false,
  "kernelspec": {
   "display_name": "Python 3",
   "language": "python",
   "name": "python3"
  },
  "language_info": {
   "codemirror_mode": {
    "name": "ipython",
    "version": 3
   },
   "file_extension": ".py",
   "mimetype": "text/x-python",
   "name": "python",
   "nbconvert_exporter": "python",
   "pygments_lexer": "ipython3",
   "version": "3.7.4"
  },
  "latex_envs": {
   "LaTeX_envs_menu_present": true,
   "autoclose": false,
   "autocomplete": true,
   "bibliofile": "biblio.bib",
   "cite_by": "apalike",
   "current_citInitial": 1,
   "eqLabelWithNumbers": true,
   "eqNumInitial": 1,
   "hotkeys": {
    "equation": "Ctrl-E",
    "itemize": "Ctrl-I"
   },
   "labels_anchors": false,
   "latex_user_defs": false,
   "report_style_numbering": false,
   "user_envs_cfg": false
  },
  "toc": {
   "base_numbering": 1,
   "nav_menu": {},
   "number_sections": true,
   "sideBar": true,
   "skip_h1_title": false,
   "title_cell": "Table of Contents",
   "title_sidebar": "Contents",
   "toc_cell": false,
   "toc_position": {},
   "toc_section_display": true,
   "toc_window_display": false
  },
  "varInspector": {
   "cols": {
    "lenName": 16,
    "lenType": 16,
    "lenVar": 40
   },
   "kernels_config": {
    "python": {
     "delete_cmd_postfix": "",
     "delete_cmd_prefix": "del ",
     "library": "var_list.py",
     "varRefreshCmd": "print(var_dic_list())"
    },
    "r": {
     "delete_cmd_postfix": ") ",
     "delete_cmd_prefix": "rm(",
     "library": "var_list.r",
     "varRefreshCmd": "cat(var_dic_list()) "
    }
   },
   "types_to_exclude": [
    "module",
    "function",
    "builtin_function_or_method",
    "instance",
    "_Feature"
   ],
   "window_display": false
  }
 },
 "nbformat": 4,
 "nbformat_minor": 2
}
